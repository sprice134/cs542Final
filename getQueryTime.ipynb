{
 "cells": [
  {
   "cell_type": "code",
   "execution_count": 1,
   "metadata": {},
   "outputs": [],
   "source": [
    "import sqlite3\n",
    "import time\n",
    "import queries\n"
   ]
  },
  {
   "cell_type": "code",
   "execution_count": 2,
   "metadata": {},
   "outputs": [
    {
     "name": "stdout",
     "output_type": "stream",
     "text": [
      "22\n"
     ]
    }
   ],
   "source": [
    "queryResponseTimes = {}\n",
    "Queries = queries.returnQueries()\n",
    "print(len(Queries))"
   ]
  },
  {
   "cell_type": "code",
   "execution_count": 4,
   "metadata": {},
   "outputs": [
    {
     "name": "stdout",
     "output_type": "stream",
     "text": [
      "Starting Group 0\n",
      "q1 took 5.662172794342041 seconds to execute.\n",
      "q2 took 0.24419617652893066 seconds to execute.\n",
      "q3 took 1.4296629428863525 seconds to execute.\n",
      "q4 took 0.3555271625518799 seconds to execute.\n",
      "q5 took 1.9910190105438232 seconds to execute.\n",
      "q6 took 0.853848934173584 seconds to execute.\n",
      "q7 took 3.2163357734680176 seconds to execute.\n",
      "q8 took 5.112211227416992 seconds to execute.\n",
      "q9 took 13.235575199127197 seconds to execute.\n",
      "q10 took 1.237022876739502 seconds to execute.\n",
      "q11 took 0.5701580047607422 seconds to execute.\n",
      "q12 took 0.9626901149749756 seconds to execute.\n",
      "q13 took 7.093549013137817 seconds to execute.\n",
      "q14 took 1.0909302234649658 seconds to execute.\n",
      "q15 took 0.981410026550293 seconds to execute.\n",
      "q16 took 0.31947898864746094 seconds to execute.\n",
      "q18 took 0.9173102378845215 seconds to execute.\n",
      "q19 took 1.3056089878082275 seconds to execute.\n",
      "q20 took 1.3004229068756104 seconds to execute.\n",
      "q21 took 5.721917152404785 seconds to execute.\n",
      "------------------------------\n",
      "Starting Group 1\n",
      "q1 took 5.618229150772095 seconds to execute.\n",
      "q2 took 0.2429959774017334 seconds to execute.\n",
      "q3 took 1.435957908630371 seconds to execute.\n",
      "q4 took 0.3547699451446533 seconds to execute.\n",
      "q5 took 1.9721097946166992 seconds to execute.\n",
      "q6 took 0.8585848808288574 seconds to execute.\n",
      "q7 took 3.1790659427642822 seconds to execute.\n",
      "q8 took 5.181087970733643 seconds to execute.\n",
      "q9 took 13.274553775787354 seconds to execute.\n",
      "q10 took 1.2144639492034912 seconds to execute.\n",
      "q11 took 0.5715858936309814 seconds to execute.\n",
      "q12 took 0.9612789154052734 seconds to execute.\n",
      "q13 took 7.051771879196167 seconds to execute.\n",
      "q14 took 1.108046054840088 seconds to execute.\n",
      "q15 took 0.9879660606384277 seconds to execute.\n",
      "q16 took 0.3185248374938965 seconds to execute.\n",
      "q18 took 0.9088058471679688 seconds to execute.\n",
      "q19 took 1.2978172302246094 seconds to execute.\n",
      "q20 took 1.3011438846588135 seconds to execute.\n",
      "q21 took 5.712363958358765 seconds to execute.\n",
      "------------------------------\n",
      "Starting Group 2\n",
      "q1 took 5.622687101364136 seconds to execute.\n",
      "q2 took 0.24315118789672852 seconds to execute.\n",
      "q3 took 1.4168381690979004 seconds to execute.\n",
      "q4 took 0.35818910598754883 seconds to execute.\n",
      "q5 took 1.9698102474212646 seconds to execute.\n",
      "q6 took 0.8502452373504639 seconds to execute.\n",
      "q7 took 3.2087929248809814 seconds to execute.\n",
      "q8 took 5.027483940124512 seconds to execute.\n",
      "q9 took 13.348375082015991 seconds to execute.\n",
      "q10 took 1.211047887802124 seconds to execute.\n",
      "q11 took 0.5709359645843506 seconds to execute.\n",
      "q12 took 0.9587099552154541 seconds to execute.\n",
      "q13 took 961.5091769695282 seconds to execute.\n",
      "q14 took 1.019779920578003 seconds to execute.\n",
      "q15 took 0.9713397026062012 seconds to execute.\n",
      "q16 took 0.3211820125579834 seconds to execute.\n",
      "q18 took 0.905534029006958 seconds to execute.\n",
      "q19 took 623.1772789955139 seconds to execute.\n",
      "q20 took 1.3928139209747314 seconds to execute.\n",
      "q21 took 5.941379070281982 seconds to execute.\n",
      "------------------------------\n",
      "Starting Group 3\n",
      "q1 took 5.642802000045776 seconds to execute.\n",
      "q2 took 0.24204301834106445 seconds to execute.\n",
      "q3 took 1.442474126815796 seconds to execute.\n",
      "q4 took 0.3627808094024658 seconds to execute.\n",
      "q5 took 1.9932029247283936 seconds to execute.\n",
      "q6 took 0.8367512226104736 seconds to execute.\n",
      "q7 took 3.223513126373291 seconds to execute.\n"
     ]
    },
    {
     "ename": "KeyboardInterrupt",
     "evalue": "",
     "output_type": "error",
     "traceback": [
      "\u001b[0;31m---------------------------------------------------------------------------\u001b[0m",
      "\u001b[0;31mKeyboardInterrupt\u001b[0m                         Traceback (most recent call last)",
      "Cell \u001b[0;32mIn[4], line 9\u001b[0m\n\u001b[1;32m      7\u001b[0m cursor \u001b[38;5;241m=\u001b[39m conn\u001b[38;5;241m.\u001b[39mcursor()\n\u001b[1;32m      8\u001b[0m start_time \u001b[38;5;241m=\u001b[39m time\u001b[38;5;241m.\u001b[39mtime()  \u001b[38;5;66;03m# Capture the start time\u001b[39;00m\n\u001b[0;32m----> 9\u001b[0m cursor\u001b[38;5;241m.\u001b[39mexecute(query)\n\u001b[1;32m     10\u001b[0m results \u001b[38;5;241m=\u001b[39m cursor\u001b[38;5;241m.\u001b[39mfetchall()\n\u001b[1;32m     11\u001b[0m end_time \u001b[38;5;241m=\u001b[39m time\u001b[38;5;241m.\u001b[39mtime()\n",
      "\u001b[0;31mKeyboardInterrupt\u001b[0m: "
     ]
    }
   ],
   "source": [
    "for i in range(30):\n",
    "    print(f'Starting Group {i}')\n",
    "    for q in Queries:\n",
    "        if q != 'q17' and q != 'q22':\n",
    "            query = Queries[q]\n",
    "            conn = sqlite3.connect('tpch.db')\n",
    "            cursor = conn.cursor()\n",
    "            start_time = time.time()  # Capture the start time\n",
    "            cursor.execute(query)\n",
    "            results = cursor.fetchall()\n",
    "            end_time = time.time()\n",
    "            cursor.close()\n",
    "            conn.close()\n",
    "            duration = end_time - start_time\n",
    "            print(f\"{q} took {duration} seconds to execute.\")\n",
    "            if q in queryResponseTimes:\n",
    "                queryResponseTimes[q].append(duration)\n",
    "            else:\n",
    "                queryResponseTimes[q] = [duration]\n",
    "    print('-'*30)\n",
    "\n"
   ]
  },
  {
   "cell_type": "code",
   "execution_count": null,
   "metadata": {},
   "outputs": [],
   "source": [
    "# print(queryResponseTimes)\n",
    "import pandas as pd\n",
    "df = pd.DataFrame(queryResponseTimes)\n",
    "df.to_csv('allBut17and21.csv')\n"
   ]
  },
  {
   "cell_type": "code",
   "execution_count": 7,
   "metadata": {},
   "outputs": [],
   "source": [
    "query = '''select\n",
    "sum(l_extendedprice) / 7.0 as avg_yearly\n",
    "from\n",
    "lineitem,\n",
    "part\n",
    "where\n",
    "p_partkey = l_partkey\n",
    "and p_brand = 'Brand#52'\n",
    "and p_container = 'JUMBO CAN'\n",
    "and l_quantity < (\n",
    "select\n",
    "0.2 * avg(l_quantity)\n",
    "from\n",
    "lineitem\n",
    "where\n",
    "l_partkey = p_partkey\n",
    ");'''\n",
    "\n",
    "conn = sqlite3.connect('tpch.db')\n",
    "cursor = conn.cursor()\n",
    "start_time = time.time()  # Capture the start time\n",
    "cursor.execute(query)\n",
    "results = cursor.fetchall()\n",
    "end_time = time.time()\n",
    "cursor.close()\n",
    "conn.close()\n",
    "duration = end_time - start_time\n",
    "print(f\"Query took {duration} seconds to execute.\")"
   ]
  },
  {
   "cell_type": "code",
   "execution_count": 7,
   "metadata": {},
   "outputs": [
    {
     "name": "stdout",
     "output_type": "stream",
     "text": [
      "Query took 12.21946096420288 seconds to execute.\n"
     ]
    }
   ],
   "source": [
    "query = '''WITH AvgQuantities AS (\n",
    "    SELECT \n",
    "        l_partkey, 0.2 * AVG(l_quantity) AS avg_quantity\n",
    "    FROM\n",
    "        lineitem\n",
    "    GROUP BY\n",
    "        l_partkey\n",
    ")\n",
    "SELECT\n",
    "    SUM(l.l_extendedprice) / 7.0 AS avg_yearly\n",
    "FROM\n",
    "    part p\n",
    "JOIN\n",
    "    lineitem l ON p.p_partkey = l.l_partkey\n",
    "JOIN\n",
    "    AvgQuantities aq ON l.l_partkey = aq.l_partkey\n",
    "WHERE\n",
    "    p.p_brand = 'Brand#52'\n",
    "    AND p.p_container = 'JUMBO CAN'\n",
    "    AND l.l_quantity < aq.avg_quantity;\n",
    "\n",
    "'''\n",
    "\n",
    "conn = sqlite3.connect('tpch.db')\n",
    "cursor = conn.cursor()\n",
    "start_time = time.time()  # Capture the start time\n",
    "cursor.execute(query)\n",
    "results = cursor.fetchall()\n",
    "end_time = time.time()\n",
    "cursor.close()\n",
    "conn.close()\n",
    "duration = end_time - start_time\n",
    "print(f\"Query took {duration} seconds to execute.\")\n"
   ]
  }
 ],
 "metadata": {
  "kernelspec": {
   "display_name": "Python 3",
   "language": "python",
   "name": "python3"
  },
  "language_info": {
   "codemirror_mode": {
    "name": "ipython",
    "version": 3
   },
   "file_extension": ".py",
   "mimetype": "text/x-python",
   "name": "python",
   "nbconvert_exporter": "python",
   "pygments_lexer": "ipython3",
   "version": "3.11.7"
  }
 },
 "nbformat": 4,
 "nbformat_minor": 2
}
