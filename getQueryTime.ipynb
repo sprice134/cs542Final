{
 "cells": [
  {
   "cell_type": "code",
   "execution_count": 1,
   "metadata": {},
   "outputs": [],
   "source": [
    "import sqlite3\n",
    "import time\n",
    "import queries\n"
   ]
  },
  {
   "cell_type": "code",
   "execution_count": 2,
   "metadata": {},
   "outputs": [
    {
     "name": "stdout",
     "output_type": "stream",
     "text": [
      "4\n"
     ]
    }
   ],
   "source": [
    "queryResponseTimes = {}\n",
    "Queries = queries.returnQueries2()\n",
    "print(len(Queries))"
   ]
  },
  {
   "cell_type": "code",
   "execution_count": 4,
   "metadata": {},
   "outputs": [
    {
     "name": "stdout",
     "output_type": "stream",
     "text": [
      "Starting Group 0\n",
      "q17_drop_view took 0.001577138900756836 seconds to execute.\n",
      "q17_create_view took 0.0010371208190917969 seconds to execute.\n",
      "q17_call took 25.248572826385498 seconds to execute.\n",
      "q22_v3 took 1.8942530155181885 seconds to execute.\n",
      "------------------------------\n",
      "Starting Group 1\n",
      "q17_drop_view took 0.00144195556640625 seconds to execute.\n",
      "q17_create_view took 0.0010938644409179688 seconds to execute.\n",
      "q17_call took 25.10322380065918 seconds to execute.\n",
      "q22_v3 took 1.9119789600372314 seconds to execute.\n",
      "------------------------------\n",
      "Starting Group 2\n",
      "q17_drop_view took 0.0015590190887451172 seconds to execute.\n",
      "q17_create_view took 0.0009999275207519531 seconds to execute.\n",
      "q17_call took 25.01981806755066 seconds to execute.\n",
      "q22_v3 took 1.9175050258636475 seconds to execute.\n",
      "------------------------------\n",
      "Starting Group 3\n",
      "q17_drop_view took 0.0015261173248291016 seconds to execute.\n",
      "q17_create_view took 0.0012941360473632812 seconds to execute.\n",
      "q17_call took 24.554089069366455 seconds to execute.\n",
      "q22_v3 took 1.9364299774169922 seconds to execute.\n",
      "------------------------------\n",
      "Starting Group 4\n",
      "q17_drop_view took 0.001542806625366211 seconds to execute.\n",
      "q17_create_view took 0.0013840198516845703 seconds to execute.\n",
      "q17_call took 23.82506799697876 seconds to execute.\n",
      "q22_v3 took 1.9005730152130127 seconds to execute.\n",
      "------------------------------\n",
      "Starting Group 5\n",
      "q17_drop_view took 0.001531839370727539 seconds to execute.\n",
      "q17_create_view took 0.0009450912475585938 seconds to execute.\n",
      "q17_call took 22.619009971618652 seconds to execute.\n",
      "q22_v3 took 1.9239270687103271 seconds to execute.\n",
      "------------------------------\n",
      "Starting Group 6\n",
      "q17_drop_view took 0.0014960765838623047 seconds to execute.\n",
      "q17_create_view took 0.0009851455688476562 seconds to execute.\n",
      "q17_call took 22.49352192878723 seconds to execute.\n",
      "q22_v3 took 1.9451048374176025 seconds to execute.\n",
      "------------------------------\n",
      "Starting Group 7\n",
      "q17_drop_view took 0.0013167858123779297 seconds to execute.\n",
      "q17_create_view took 0.0011470317840576172 seconds to execute.\n",
      "q17_call took 24.091591835021973 seconds to execute.\n",
      "q22_v3 took 1.9202930927276611 seconds to execute.\n",
      "------------------------------\n",
      "Starting Group 8\n",
      "q17_drop_view took 0.0015501976013183594 seconds to execute.\n",
      "q17_create_view took 0.0011110305786132812 seconds to execute.\n",
      "q17_call took 25.09409999847412 seconds to execute.\n",
      "q22_v3 took 1.9275720119476318 seconds to execute.\n",
      "------------------------------\n",
      "Starting Group 9\n",
      "q17_drop_view took 0.0017390251159667969 seconds to execute.\n",
      "q17_create_view took 0.0008339881896972656 seconds to execute.\n",
      "q17_call took 25.096493244171143 seconds to execute.\n",
      "q22_v3 took 1.9193270206451416 seconds to execute.\n",
      "------------------------------\n",
      "Starting Group 10\n",
      "q17_drop_view took 0.001466989517211914 seconds to execute.\n",
      "q17_create_view took 0.001110076904296875 seconds to execute.\n",
      "q17_call took 24.758135080337524 seconds to execute.\n",
      "q22_v3 took 1.9339098930358887 seconds to execute.\n",
      "------------------------------\n"
     ]
    }
   ],
   "source": [
    "for i in range(11):\n",
    "    print(f'Starting Group {i}')\n",
    "    for q in Queries:\n",
    "        if q != 'q17' and q != 'q22':\n",
    "            query = Queries[q]\n",
    "            conn = sqlite3.connect('tpch.db')\n",
    "            cursor = conn.cursor()\n",
    "            start_time = time.time()  # Capture the start time\n",
    "            cursor.execute(query)\n",
    "            results = cursor.fetchall()\n",
    "            # print(results)\n",
    "            end_time = time.time()\n",
    "            cursor.close()\n",
    "            conn.close()\n",
    "            duration = end_time - start_time\n",
    "            print(f\"{q} took {duration} seconds to execute.\")\n",
    "            if q in queryResponseTimes:\n",
    "                queryResponseTimes[q].append(duration)\n",
    "            else:\n",
    "                queryResponseTimes[q] = [duration]\n",
    "    print('-'*30)\n",
    "\n"
   ]
  },
  {
   "cell_type": "code",
   "execution_count": 5,
   "metadata": {},
   "outputs": [],
   "source": [
    "# print(queryResponseTimes)\n",
    "import pandas as pd\n",
    "df = pd.DataFrame(queryResponseTimes)\n",
    "df.to_csv('17and22.csv')\n"
   ]
  },
  {
   "cell_type": "code",
   "execution_count": 7,
   "metadata": {},
   "outputs": [],
   "source": [
    "query = '''select\n",
    "sum(l_extendedprice) / 7.0 as avg_yearly\n",
    "from\n",
    "lineitem,\n",
    "part\n",
    "where\n",
    "p_partkey = l_partkey\n",
    "and p_brand = 'Brand#52'\n",
    "and p_container = 'JUMBO CAN'\n",
    "and l_quantity < (\n",
    "select\n",
    "0.2 * avg(l_quantity)\n",
    "from\n",
    "lineitem\n",
    "where\n",
    "l_partkey = p_partkey\n",
    ");'''\n",
    "\n",
    "conn = sqlite3.connect('tpch.db')\n",
    "cursor = conn.cursor()\n",
    "start_time = time.time()  # Capture the start time\n",
    "cursor.execute(query)\n",
    "results = cursor.fetchall()\n",
    "end_time = time.time()\n",
    "cursor.close()\n",
    "conn.close()\n",
    "duration = end_time - start_time\n",
    "print(f\"Query took {duration} seconds to execute.\")"
   ]
  },
  {
   "cell_type": "code",
   "execution_count": 7,
   "metadata": {},
   "outputs": [
    {
     "name": "stdout",
     "output_type": "stream",
     "text": [
      "Query took 12.21946096420288 seconds to execute.\n"
     ]
    }
   ],
   "source": [
    "query = '''WITH AvgQuantities AS (\n",
    "    SELECT \n",
    "        l_partkey, 0.2 * AVG(l_quantity) AS avg_quantity\n",
    "    FROM\n",
    "        lineitem\n",
    "    GROUP BY\n",
    "        l_partkey\n",
    ")\n",
    "SELECT\n",
    "    SUM(l.l_extendedprice) / 7.0 AS avg_yearly\n",
    "FROM\n",
    "    part p\n",
    "JOIN\n",
    "    lineitem l ON p.p_partkey = l.l_partkey\n",
    "JOIN\n",
    "    AvgQuantities aq ON l.l_partkey = aq.l_partkey\n",
    "WHERE\n",
    "    p.p_brand = 'Brand#52'\n",
    "    AND p.p_container = 'JUMBO CAN'\n",
    "    AND l.l_quantity < aq.avg_quantity;\n",
    "\n",
    "'''\n",
    "\n",
    "conn = sqlite3.connect('tpch.db')\n",
    "cursor = conn.cursor()\n",
    "start_time = time.time()  # Capture the start time\n",
    "cursor.execute(query)\n",
    "results = cursor.fetchall()\n",
    "end_time = time.time()\n",
    "cursor.close()\n",
    "conn.close()\n",
    "duration = end_time - start_time\n",
    "print(f\"Query took {duration} seconds to execute.\")\n"
   ]
  }
 ],
 "metadata": {
  "kernelspec": {
   "display_name": "Python 3",
   "language": "python",
   "name": "python3"
  },
  "language_info": {
   "codemirror_mode": {
    "name": "ipython",
    "version": 3
   },
   "file_extension": ".py",
   "mimetype": "text/x-python",
   "name": "python",
   "nbconvert_exporter": "python",
   "pygments_lexer": "ipython3",
   "version": "3.11.7"
  }
 },
 "nbformat": 4,
 "nbformat_minor": 2
}
